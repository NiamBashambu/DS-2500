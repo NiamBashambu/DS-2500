{
 "cells": [
  {
   "cell_type": "code",
   "execution_count": 20,
   "metadata": {},
   "outputs": [],
   "source": [
    "import pandas as pd\n",
    "import numpy as np\n",
    "import seaborn as sns\n",
    "import matplotlib.pyplot as plt\n",
    "import scipy.spatial.distance as ssd\n",
    "from scipy.spatial import distance\n",
    "from sklearn import metrics\n",
    "\n",
    "import ssl\n",
    "\n",
    "ssl._create_default_https_context = ssl._create_stdlib_context\n",
    "\n",
    "\n",
    "def find_majority_class(class_str,tuple_list):\n",
    "    class_counts = {}\n",
    "    for class_name in class_str:\n",
    "        class_counts[class_name] = 0\n",
    "    \n",
    "    \n",
    "    for current_tuple in tuple_list:\n",
    "        for class_name in class_str:\n",
    "            if class_name in current_tuple:\n",
    "                class_counts[class_name] += 1\n",
    "                break  \n",
    "    \n",
    "    majority_class = max(class_counts, key=class_counts.get)\n",
    "    \n",
    "    return majority_class"
   ]
  },
  {
   "cell_type": "code",
   "execution_count": 21,
   "metadata": {},
   "outputs": [],
   "source": [
    "#read csv files(training, testing)\n",
    "#need euclidean distance\n",
    "#compute euclidean distance from new thing to all trraining points\n",
    "#find the k smallest distances\n",
    "#majority rules(of the k closet trinaing points, wich appears the most often)\n",
    "\n",
    "\n",
    "#some code we might find useful\n",
    "#import scipy.spatial.distance as ssd, ssd.euclidean()\n",
    "#numpy --- np.where(condiiton, if true, if false) use for plotting\n",
    "#specialized sorting --- sort all the distances and pick the k at the beiginning\n",
    "#if we have a 2d list, lst.sort() sortsthe first element in every sublist, if we want something else we can specify the key\n",
    "\n"
   ]
  },
  {
   "cell_type": "code",
   "execution_count": 22,
   "metadata": {},
   "outputs": [
    {
     "data": {
      "text/html": [
       "<div>\n",
       "<style scoped>\n",
       "    .dataframe tbody tr th:only-of-type {\n",
       "        vertical-align: middle;\n",
       "    }\n",
       "\n",
       "    .dataframe tbody tr th {\n",
       "        vertical-align: top;\n",
       "    }\n",
       "\n",
       "    .dataframe thead th {\n",
       "        text-align: right;\n",
       "    }\n",
       "</style>\n",
       "<table border=\"1\" class=\"dataframe\">\n",
       "  <thead>\n",
       "    <tr style=\"text-align: right;\">\n",
       "      <th></th>\n",
       "      <th>name</th>\n",
       "      <th>friendliness</th>\n",
       "      <th>intelligence</th>\n",
       "      <th>label</th>\n",
       "      <th>color</th>\n",
       "    </tr>\n",
       "  </thead>\n",
       "  <tbody>\n",
       "    <tr>\n",
       "      <th>0</th>\n",
       "      <td>Choux</td>\n",
       "      <td>3</td>\n",
       "      <td>8</td>\n",
       "      <td>cat</td>\n",
       "      <td>orange</td>\n",
       "    </tr>\n",
       "    <tr>\n",
       "      <th>1</th>\n",
       "      <td>Garfield</td>\n",
       "      <td>2</td>\n",
       "      <td>4</td>\n",
       "      <td>cat</td>\n",
       "      <td>orange</td>\n",
       "    </tr>\n",
       "    <tr>\n",
       "      <th>2</th>\n",
       "      <td>Lion-o</td>\n",
       "      <td>5</td>\n",
       "      <td>5</td>\n",
       "      <td>cat</td>\n",
       "      <td>orange</td>\n",
       "    </tr>\n",
       "    <tr>\n",
       "      <th>3</th>\n",
       "      <td>Pink Pather</td>\n",
       "      <td>3</td>\n",
       "      <td>5</td>\n",
       "      <td>cat</td>\n",
       "      <td>orange</td>\n",
       "    </tr>\n",
       "    <tr>\n",
       "      <th>4</th>\n",
       "      <td>McGruff</td>\n",
       "      <td>6</td>\n",
       "      <td>5</td>\n",
       "      <td>dog</td>\n",
       "      <td>firebrick</td>\n",
       "    </tr>\n",
       "  </tbody>\n",
       "</table>\n",
       "</div>"
      ],
      "text/plain": [
       "          name  friendliness  intelligence label      color\n",
       "0        Choux             3             8   cat     orange\n",
       "1     Garfield             2             4   cat     orange\n",
       "2       Lion-o             5             5   cat     orange\n",
       "3  Pink Pather             3             5   cat     orange\n",
       "4      McGruff             6             5   dog  firebrick"
      ]
     },
     "execution_count": 22,
     "metadata": {},
     "output_type": "execute_result"
    }
   ],
   "source": [
    "#1. read in training and testing data\n",
    "training = pd.read_csv(\"training.csv\")\n",
    "testing = pd.read_csv(\"testing.csv\")\n",
    "\n",
    "\n",
    "training[\"color\"] = np.where(training[\"label\"] == \"cat\",\"orange\",\"firebrick\")\n",
    "training.head()"
   ]
  },
  {
   "cell_type": "code",
   "execution_count": 23,
   "metadata": {},
   "outputs": [
    {
     "data": {
      "image/png": "[encoded data removed]",
      "text/plain": [
       "<Figure size 640x480 with 1 Axes>"
      ]
     },
     "metadata": {},
     "output_type": "display_data"
    }
   ],
   "source": [
    "training.plot(kind = \"scatter\", x = \"friendliness\", y = \"intelligence\",c=\"color\")\n",
    "plt.show()"
   ]
  },
  {
   "cell_type": "code",
   "execution_count": 24,
   "metadata": {},
   "outputs": [
    {
     "data": {
      "text/plain": [
       "(friendliness    3\n",
       " intelligence    8\n",
       " Name: 0, dtype: int64,\n",
       " friendliness    8\n",
       " intelligence    3\n",
       " Name: 0, dtype: int64)"
      ]
     },
     "execution_count": 24,
     "metadata": {},
     "output_type": "execute_result"
    }
   ],
   "source": [
    "#we need euclidean distance --- let's do a quick example\n",
    "train_ex = training[[\"friendliness\",\"intelligence\"]].iloc[0]\n",
    "test_ex = testing[[\"friendliness\",\"intelligence\"]].iloc[0]\n",
    "train_ex,test_ex\n"
   ]
  },
  {
   "cell_type": "code",
   "execution_count": 25,
   "metadata": {},
   "outputs": [
    {
     "data": {
      "text/plain": [
       "7.0710678118654755"
      ]
     },
     "execution_count": 25,
     "metadata": {},
     "output_type": "execute_result"
    }
   ],
   "source": [
    "#what is the euclidean distance between One testing thing and one training thing\n",
    "test=ssd.euclidean(train_ex,test_ex)\n",
    "test"
   ]
  },
  {
   "cell_type": "code",
   "execution_count": 26,
   "metadata": {},
   "outputs": [
    {
     "data": {
      "text/plain": [
       "[('Choux', 'cat', 7.0710678118654755),\n",
       " ('Garfield', 'cat', 6.082762530298219),\n",
       " ('Lion-o', 'cat', 3.605551275463989),\n",
       " ('Pink Pather', 'cat', 5.385164807134504),\n",
       " ('McGruff', 'dog', 2.8284271247461903),\n",
       " ('Scooby Doo', 'dog', 0.0),\n",
       " ('Odie', 'dog', 1.4142135623730951),\n",
       " ('Grizz', 'dog', 3.0),\n",
       " ('Carol', 'dog', 4.47213595499958),\n",
       " ('Clifford', 'dog', 1.0)]"
      ]
     },
     "execution_count": 26,
     "metadata": {},
     "output_type": "execute_result"
    }
   ],
   "source": [
    "#make a list of distances, from test +ex to every row in triaing\n",
    "distances= []\n",
    "for i in range(len(training)):\n",
    "    train = training[[\"friendliness\",\"intelligence\"]].iloc[i]\n",
    "    distance = ssd.euclidean(train,test_ex)\n",
    "    distances.append((training[\"name\"].iloc[i],training[\"label\"].iloc[i],distance))\n",
    "distances"
   ]
  },
  {
   "cell_type": "code",
   "execution_count": 27,
   "metadata": {},
   "outputs": [
    {
     "data": {
      "text/plain": [
       "[('Scooby Doo', 'dog', 0.0),\n",
       " ('Clifford', 'dog', 1.0),\n",
       " ('Odie', 'dog', 1.4142135623730951)]"
      ]
     },
     "execution_count": 27,
     "metadata": {},
     "output_type": "execute_result"
    }
   ],
   "source": [
    "#find k smallest distances\n",
    "\n",
    "K = 3\n",
    "distances.sort(key = lambda a :a[2])\n",
    "distances[:K]\n",
    "\n"
   ]
  },
  {
   "cell_type": "code",
   "execution_count": 28,
   "metadata": {},
   "outputs": [],
   "source": [
    "#final step of the K smallest distances, which claass do we belong to?\n"
   ]
  },
  {
   "cell_type": "code",
   "execution_count": 29,
   "metadata": {},
   "outputs": [
    {
     "data": {
      "text/plain": [
       "'dog'"
      ]
     },
     "execution_count": 29,
     "metadata": {},
     "output_type": "execute_result"
    }
   ],
   "source": [
    "find_majority_class([\"cat\",\"dog\"],distances[:K])"
   ]
  },
  {
   "cell_type": "code",
   "execution_count": 30,
   "metadata": {},
   "outputs": [
    {
     "data": {
      "text/plain": [
       "[[('Choux', 'cat', 7.0710678118654755),\n",
       "  ('Garfield', 'cat', 6.082762530298219),\n",
       "  ('Lion-o', 'cat', 3.605551275463989),\n",
       "  ('Pink Pather', 'cat', 5.385164807134504),\n",
       "  ('McGruff', 'dog', 2.8284271247461903),\n",
       "  ('Scooby Doo', 'dog', 0.0),\n",
       "  ('Odie', 'dog', 1.4142135623730951),\n",
       "  ('Grizz', 'dog', 3.0),\n",
       "  ('Carol', 'dog', 4.47213595499958),\n",
       "  ('Clifford', 'dog', 1.0)],\n",
       " [('Choux', 'cat', 1.0),\n",
       "  ('Garfield', 'cat', 3.1622776601683795),\n",
       "  ('Lion-o', 'cat', 2.8284271247461903),\n",
       "  ('Pink Pather', 'cat', 2.0),\n",
       "  ('McGruff', 'dog', 3.605551275463989),\n",
       "  ('Scooby Doo', 'dog', 6.4031242374328485),\n",
       "  ('Odie', 'dog', 6.4031242374328485),\n",
       "  ('Grizz', 'dog', 5.0990195135927845),\n",
       "  ('Carol', 'dog', 3.0),\n",
       "  ('Clifford', 'dog', 7.0710678118654755)],\n",
       " [('Choux', 'cat', 8.48528137423857),\n",
       "  ('Garfield', 'cat', 7.280109889280518),\n",
       "  ('Lion-o', 'cat', 5.0),\n",
       "  ('Pink Pather', 'cat', 6.708203932499369),\n",
       "  ('McGruff', 'dog', 4.242640687119285),\n",
       "  ('Scooby Doo', 'dog', 1.4142135623730951),\n",
       "  ('Odie', 'dog', 2.0),\n",
       "  ('Grizz', 'dog', 4.123105625617661),\n",
       "  ('Carol', 'dog', 5.830951894845301),\n",
       "  ('Clifford', 'dog', 1.0)],\n",
       " [('Choux', 'cat', 4.47213595499958),\n",
       "  ('Garfield', 'cat', 3.0),\n",
       "  ('Lion-o', 'cat', 1.0),\n",
       "  ('Pink Pather', 'cat', 2.23606797749979),\n",
       "  ('McGruff', 'dog', 1.4142135623730951),\n",
       "  ('Scooby Doo', 'dog', 3.1622776601683795),\n",
       "  ('Odie', 'dog', 2.8284271247461903),\n",
       "  ('Grizz', 'dog', 3.605551275463989),\n",
       "  ('Carol', 'dog', 3.1622776601683795),\n",
       "  ('Clifford', 'dog', 3.605551275463989)],\n",
       " [('Choux', 'cat', 3.605551275463989),\n",
       "  ('Garfield', 'cat', 4.47213595499958),\n",
       "  ('Lion-o', 'cat', 1.4142135623730951),\n",
       "  ('Pink Pather', 'cat', 3.1622776601683795),\n",
       "  ('McGruff', 'dog', 1.0),\n",
       "  ('Scooby Doo', 'dog', 3.605551275463989),\n",
       "  ('Odie', 'dog', 4.123105625617661),\n",
       "  ('Grizz', 'dog', 2.0),\n",
       "  ('Carol', 'dog', 1.0),\n",
       "  ('Clifford', 'dog', 4.47213595499958)],\n",
       " [('Choux', 'cat', 2.23606797749979),\n",
       "  ('Garfield', 'cat', 4.242640687119285),\n",
       "  ('Lion-o', 'cat', 2.0),\n",
       "  ('Pink Pather', 'cat', 2.8284271247461903),\n",
       "  ('McGruff', 'dog', 2.23606797749979),\n",
       "  ('Scooby Doo', 'dog', 5.0),\n",
       "  ('Odie', 'dog', 5.385164807134504),\n",
       "  ('Grizz', 'dog', 3.1622776601683795),\n",
       "  ('Carol', 'dog', 1.0),\n",
       "  ('Clifford', 'dog', 5.830951894845301)],\n",
       " [('Choux', 'cat', 7.810249675906654),\n",
       "  ('Garfield', 'cat', 7.0710678118654755),\n",
       "  ('Lion-o', 'cat', 4.47213595499958),\n",
       "  ('Pink Pather', 'cat', 6.324555320336759),\n",
       "  ('McGruff', 'dog', 3.605551275463989),\n",
       "  ('Scooby Doo', 'dog', 1.0),\n",
       "  ('Odie', 'dog', 2.23606797749979),\n",
       "  ('Grizz', 'dog', 3.1622776601683795),\n",
       "  ('Carol', 'dog', 5.0),\n",
       "  ('Clifford', 'dog', 1.4142135623730951)],\n",
       " [('Choux', 'cat', 1.0),\n",
       "  ('Garfield', 'cat', 3.1622776601683795),\n",
       "  ('Lion-o', 'cat', 2.8284271247461903),\n",
       "  ('Pink Pather', 'cat', 2.0),\n",
       "  ('McGruff', 'dog', 3.605551275463989),\n",
       "  ('Scooby Doo', 'dog', 6.4031242374328485),\n",
       "  ('Odie', 'dog', 6.4031242374328485),\n",
       "  ('Grizz', 'dog', 5.0990195135927845),\n",
       "  ('Carol', 'dog', 3.0),\n",
       "  ('Clifford', 'dog', 7.0710678118654755)],\n",
       " [('Choux', 'cat', 1.0),\n",
       "  ('Garfield', 'cat', 3.1622776601683795),\n",
       "  ('Lion-o', 'cat', 2.8284271247461903),\n",
       "  ('Pink Pather', 'cat', 2.0),\n",
       "  ('McGruff', 'dog', 3.605551275463989),\n",
       "  ('Scooby Doo', 'dog', 6.4031242374328485),\n",
       "  ('Odie', 'dog', 6.4031242374328485),\n",
       "  ('Grizz', 'dog', 5.0990195135927845),\n",
       "  ('Carol', 'dog', 3.0),\n",
       "  ('Clifford', 'dog', 7.0710678118654755)]]"
      ]
     },
     "execution_count": 30,
     "metadata": {},
     "output_type": "execute_result"
    }
   ],
   "source": [
    "all_dist = []\n",
    "for i in range(len(testing)):\n",
    "    test = testing[[\"friendliness\",\"intelligence\"]].iloc[i]\n",
    "    curr_dist = []\n",
    "    for j in range(len(training)):\n",
    "        train = training[[\"friendliness\",\"intelligence\"]].iloc[j]\n",
    "        dist = ssd.euclidean(test,train)\n",
    "        curr_dist.append((training[\"name\"].iloc[j],training[\"label\"].iloc[j],dist))\n",
    "    all_dist.append(curr_dist)\n",
    "\n",
    "all_dist"
   ]
  },
  {
   "cell_type": "code",
   "execution_count": 31,
   "metadata": {},
   "outputs": [
    {
     "data": {
      "text/plain": [
       "[[('Scooby Doo', 'dog', 0.0),\n",
       "  ('Clifford', 'dog', 1.0),\n",
       "  ('Odie', 'dog', 1.4142135623730951)],\n",
       " [('Choux', 'cat', 1.0),\n",
       "  ('Pink Pather', 'cat', 2.0),\n",
       "  ('Lion-o', 'cat', 2.8284271247461903)],\n",
       " [('Clifford', 'dog', 1.0),\n",
       "  ('Scooby Doo', 'dog', 1.4142135623730951),\n",
       "  ('Odie', 'dog', 2.0)],\n",
       " [('Lion-o', 'cat', 1.0),\n",
       "  ('McGruff', 'dog', 1.4142135623730951),\n",
       "  ('Pink Pather', 'cat', 2.23606797749979)],\n",
       " [('McGruff', 'dog', 1.0),\n",
       "  ('Carol', 'dog', 1.0),\n",
       "  ('Lion-o', 'cat', 1.4142135623730951)],\n",
       " [('Carol', 'dog', 1.0),\n",
       "  ('Lion-o', 'cat', 2.0),\n",
       "  ('Choux', 'cat', 2.23606797749979)],\n",
       " [('Scooby Doo', 'dog', 1.0),\n",
       "  ('Clifford', 'dog', 1.4142135623730951),\n",
       "  ('Odie', 'dog', 2.23606797749979)],\n",
       " [('Choux', 'cat', 1.0),\n",
       "  ('Pink Pather', 'cat', 2.0),\n",
       "  ('Lion-o', 'cat', 2.8284271247461903)],\n",
       " [('Choux', 'cat', 1.0),\n",
       "  ('Pink Pather', 'cat', 2.0),\n",
       "  ('Lion-o', 'cat', 2.8284271247461903)]]"
      ]
     },
     "execution_count": 31,
     "metadata": {},
     "output_type": "execute_result"
    }
   ],
   "source": [
    "for i in range(len(all_dist)):\n",
    "    all_dist[i].sort(key = lambda a : a[2])\n",
    "    all_dist[i] = all_dist[i][:K]\n",
    "all_dist"
   ]
  },
  {
   "cell_type": "code",
   "execution_count": 32,
   "metadata": {},
   "outputs": [
    {
     "data": {
      "text/plain": [
       "['dog', 'cat', 'dog', 'cat', 'dog', 'cat', 'dog', 'cat', 'cat']"
      ]
     },
     "execution_count": 32,
     "metadata": {},
     "output_type": "execute_result"
    }
   ],
   "source": [
    "predicitions = []\n",
    "for dist in all_dist:\n",
    "    curr_class = find_majority_class([\"cat\",\"dog\"],dist)\n",
    "    predicitions.append(curr_class)\n",
    "predicitions"
   ]
  },
  {
   "cell_type": "code",
   "execution_count": 33,
   "metadata": {},
   "outputs": [
    {
     "data": {
      "text/html": [
       "<div>\n",
       "<style scoped>\n",
       "    .dataframe tbody tr th:only-of-type {\n",
       "        vertical-align: middle;\n",
       "    }\n",
       "\n",
       "    .dataframe tbody tr th {\n",
       "        vertical-align: top;\n",
       "    }\n",
       "\n",
       "    .dataframe thead th {\n",
       "        text-align: right;\n",
       "    }\n",
       "</style>\n",
       "<table border=\"1\" class=\"dataframe\">\n",
       "  <thead>\n",
       "    <tr style=\"text-align: right;\">\n",
       "      <th></th>\n",
       "      <th>name</th>\n",
       "      <th>friendliness</th>\n",
       "      <th>intelligence</th>\n",
       "      <th>label</th>\n",
       "      <th>predicted</th>\n",
       "    </tr>\n",
       "  </thead>\n",
       "  <tbody>\n",
       "    <tr>\n",
       "      <th>0</th>\n",
       "      <td>Sven</td>\n",
       "      <td>8</td>\n",
       "      <td>3</td>\n",
       "      <td>dog</td>\n",
       "      <td>dog</td>\n",
       "    </tr>\n",
       "    <tr>\n",
       "      <th>1</th>\n",
       "      <td>Asteroid</td>\n",
       "      <td>3</td>\n",
       "      <td>7</td>\n",
       "      <td>cat</td>\n",
       "      <td>cat</td>\n",
       "    </tr>\n",
       "    <tr>\n",
       "      <th>2</th>\n",
       "      <td>Zeke</td>\n",
       "      <td>9</td>\n",
       "      <td>2</td>\n",
       "      <td>dog</td>\n",
       "      <td>dog</td>\n",
       "    </tr>\n",
       "    <tr>\n",
       "      <th>3</th>\n",
       "      <td>Melvin</td>\n",
       "      <td>5</td>\n",
       "      <td>4</td>\n",
       "      <td>dog</td>\n",
       "      <td>cat</td>\n",
       "    </tr>\n",
       "    <tr>\n",
       "      <th>4</th>\n",
       "      <td>Remy</td>\n",
       "      <td>6</td>\n",
       "      <td>6</td>\n",
       "      <td>dog</td>\n",
       "      <td>dog</td>\n",
       "    </tr>\n",
       "    <tr>\n",
       "      <th>5</th>\n",
       "      <td>Lady</td>\n",
       "      <td>5</td>\n",
       "      <td>7</td>\n",
       "      <td>dog</td>\n",
       "      <td>cat</td>\n",
       "    </tr>\n",
       "    <tr>\n",
       "      <th>6</th>\n",
       "      <td>Cam</td>\n",
       "      <td>9</td>\n",
       "      <td>3</td>\n",
       "      <td>dog</td>\n",
       "      <td>dog</td>\n",
       "    </tr>\n",
       "    <tr>\n",
       "      <th>7</th>\n",
       "      <td>Tito's</td>\n",
       "      <td>3</td>\n",
       "      <td>7</td>\n",
       "      <td>cat</td>\n",
       "      <td>cat</td>\n",
       "    </tr>\n",
       "    <tr>\n",
       "      <th>8</th>\n",
       "      <td>Bailey</td>\n",
       "      <td>3</td>\n",
       "      <td>7</td>\n",
       "      <td>cat</td>\n",
       "      <td>cat</td>\n",
       "    </tr>\n",
       "  </tbody>\n",
       "</table>\n",
       "</div>"
      ],
      "text/plain": [
       "       name  friendliness  intelligence label predicted\n",
       "0      Sven             8             3   dog       dog\n",
       "1  Asteroid             3             7   cat       cat\n",
       "2      Zeke             9             2   dog       dog\n",
       "3    Melvin             5             4   dog       cat\n",
       "4      Remy             6             6   dog       dog\n",
       "5      Lady             5             7   dog       cat\n",
       "6       Cam             9             3   dog       dog\n",
       "7    Tito's             3             7   cat       cat\n",
       "8    Bailey             3             7   cat       cat"
      ]
     },
     "execution_count": 33,
     "metadata": {},
     "output_type": "execute_result"
    }
   ],
   "source": [
    "testing[\"predicted\"] = predicitions\n",
    "testing"
   ]
  },
  {
   "cell_type": "code",
   "execution_count": 35,
   "metadata": {},
   "outputs": [
    {
     "name": "stdout",
     "output_type": "stream",
     "text": [
      "              precision    recall  f1-score   support\n",
      "\n",
      "         cat       0.60      1.00      0.75         3\n",
      "         dog       1.00      0.67      0.80         6\n",
      "\n",
      "    accuracy                           0.78         9\n",
      "   macro avg       0.80      0.83      0.77         9\n",
      "weighted avg       0.87      0.78      0.78         9\n",
      "\n"
     ]
    }
   ],
   "source": [
    "report = metrics.classification_report(testing[\"label\"],testing[\"predicted\"])\n",
    "print(report)"
   ]
  },
  {
   "cell_type": "code",
   "execution_count": 36,
   "metadata": {},
   "outputs": [
    {
     "name": "stdout",
     "output_type": "stream",
     "text": [
      "[[3 0]\n",
      " [2 4]]\n"
     ]
    }
   ],
   "source": [
    "confusion = metrics.confusion_matrix(testing[\"label\"],testing[\"predicted\"])\n",
    "print(confusion)"
   ]
  },
  {
   "cell_type": "code",
   "execution_count": 37,
   "metadata": {},
   "outputs": [
    {
     "data": {
      "text/plain": [
       "<Axes: >"
      ]
     },
     "execution_count": 37,
     "metadata": {},
     "output_type": "execute_result"
    },
    {
     "data": {
      "image/png": "[encoded data removed]",
      "text/plain": [
       "<Figure size 640x480 with 2 Axes>"
      ]
     },
     "metadata": {},
     "output_type": "display_data"
    }
   ],
   "source": [
    "sns.heatmap(confusion,annot=True)"
   ]
  }
 ],
 "metadata": {
  "kernelspec": {
   "display_name": "Python 3",
   "language": "python",
   "name": "python3"
  },
  "language_info": {
   "codemirror_mode": {
    "name": "ipython",
    "version": 3
   },
   "file_extension": ".py",
   "mimetype": "text/x-python",
   "name": "python",
   "nbconvert_exporter": "python",
   "pygments_lexer": "ipython3",
   "version": "3.11.5"
  }
 },
 "nbformat": 4,
 "nbformat_minor": 2
}
